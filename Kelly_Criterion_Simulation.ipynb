{
 "cells": [
  {
   "cell_type": "markdown",
   "metadata": {},
   "source": [
    "You may find it interesting to see from https://en.wikipedia.org/wiki/Kelly_criterion the story:\n",
    "\n",
    "“ … The Kelly Criterion is to bet a predetermined fraction of assets and can be counterintuitive. In one study, each participant was given 25 dollars and asked to bet on a coin that would land heads 60 percent of the time. Participants had 30 minutes to play, so could place about 300 bets, and the prizes were capped at 250 dollars. Behavior was far from optimal. \"Remarkably, 28 percent of the participants went bust, and the average payout was just 91 dollars. Only 21 percent of the participants reached the maximum. 18 of the 61 participants bet everything on one toss, while two-thirds gambled on tails at some stage in the experiment.\" Using the Kelly criterion and based on the odds in the experiment, the right approach would be to bet 20 percent of the pot on each throw (see first example below). If losing, the size of the bet gets cut; if winning, the stake increases…”\n",
    "\n",
    "We are wondering if it is difficult to reach $250 with 300 bets."
   ]
  },
  {
   "cell_type": "markdown",
   "metadata": {},
   "source": [
    "The initial parameters: x , p , b and N where N is the number of repeated game trials . These parameters should be easily changeable in the program. Let’s set p =0.6, b =1 and N =300.\n",
    "\n",
    "In order to examine the effect of different betting ratio, the program will simulate with an initial wealth of $25 and arrive at the cumulated wealth after 300 bets for each of the betting ratio x = 0.0, 0.1, 0.2, 0.3, … 0.9, 1.0."
   ]
  },
  {
   "cell_type": "code",
   "execution_count": 2,
   "metadata": {},
   "outputs": [],
   "source": [
    "from numpy import random as rd\n",
    "import numpy as np\n",
    "N = 300\n",
    "p = 0.6\n",
    "b = 1\n",
    "w = 25\n",
    "np.set_printoptions(formatter={'float_kind':'{:.3f}'.format})"
   ]
  },
  {
   "cell_type": "code",
   "execution_count": 3,
   "metadata": {},
   "outputs": [],
   "source": [
    "def test(N, p, b, w, x, path):\n",
    "    for i in range(0, N):\n",
    "        if path[i]:\n",
    "            w = w + w*b*x\n",
    "        else:\n",
    "            w = w*(1-x)\n",
    "    return w"
   ]
  },
  {
   "cell_type": "code",
   "execution_count": 4,
   "metadata": {},
   "outputs": [
    {
     "data": {
      "text/plain": [
       "array([0.000, 0.100, 0.200, 0.300, 0.400, 0.500, 0.600, 0.700, 0.800,\n",
       "       0.900, 1.000])"
      ]
     },
     "execution_count": 4,
     "metadata": {},
     "output_type": "execute_result"
    }
   ],
   "source": [
    "x = np.arange(0,1.1,0.1)\n",
    "x"
   ]
  },
  {
   "cell_type": "code",
   "execution_count": 5,
   "metadata": {},
   "outputs": [],
   "source": [
    "# path stands for a series of Bernoulli experiments (type: Boolean)\n",
    "def simulate():\n",
    "    path = (rd.random(N)<p)\n",
    "    win_ratio = sum(path)/N\n",
    "    print('Sample win ratio is: ', round(win_ratio,3))\n",
    "    print('Final wealth is ', test(N, p, b, w, x, path))"
   ]
  },
  {
   "cell_type": "code",
   "execution_count": 8,
   "metadata": {},
   "outputs": [
    {
     "data": {
      "text/plain": [
       "0.5966666666666667"
      ]
     },
     "execution_count": 8,
     "metadata": {},
     "output_type": "execute_result"
    }
   ],
   "source": [
    "sum(rd.random(N)<p)/N"
   ]
  },
  {
   "cell_type": "code",
   "execution_count": 7,
   "metadata": {},
   "outputs": [
    {
     "name": "stdout",
     "output_type": "stream",
     "text": [
      "Sample win ratio is:  0.61\n",
      "Final wealth is  [25.000 4160.782 35451.655 13367.314 152.429 0.025 0.000 0.000 0.000 0.000\n",
      " 0.000]\n"
     ]
    }
   ],
   "source": [
    "simulate()"
   ]
  },
  {
   "cell_type": "markdown",
   "metadata": {},
   "source": [
    "Try to deduce a “good” betting ratio. Here is a possible few runs you would be looking at. We find Kelly’s betting formula is superior."
   ]
  },
  {
   "cell_type": "code",
   "execution_count": 9,
   "metadata": {},
   "outputs": [
    {
     "name": "stdout",
     "output_type": "stream",
     "text": [
      "Sample win ratio is:  0.633\n",
      "Final wealth is  [25.000 16952.206 605724.760 1018500.739 57399.000 55.205 0.000 0.000\n",
      " 0.000 0.000 0.000]\n",
      "Sample win ratio is:  0.613\n",
      "Final wealth is  [25.000 5085.401 53177.482 24825.012 355.667 0.076 0.000 0.000 0.000 0.000\n",
      " 0.000]\n",
      "Sample win ratio is:  0.59\n",
      "Final wealth is  [25.000 1248.171 3112.354 325.816 0.945 0.000 0.000 0.000 0.000 0.000\n",
      " 0.000]\n",
      "Sample win ratio is:  0.633\n",
      "Final wealth is  [25.000 16952.206 605724.760 1018500.739 57399.000 55.205 0.000 0.000\n",
      " 0.000 0.000 0.000]\n",
      "Sample win ratio is:  0.59\n",
      "Final wealth is  [25.000 1248.171 3112.354 325.816 0.945 0.000 0.000 0.000 0.000 0.000\n",
      " 0.000]\n",
      "Sample win ratio is:  0.55\n",
      "Final wealth is  [25.000 112.324 23.988 0.194 0.000 0.000 0.000 0.000 0.000 0.000 0.000]\n",
      "Sample win ratio is:  0.607\n",
      "Final wealth is  [25.000 3404.276 23634.437 7197.785 65.327 0.008 0.000 0.000 0.000 0.000\n",
      " 0.000]\n",
      "Sample win ratio is:  0.63\n",
      "Final wealth is  [25.000 13869.987 403816.507 548423.475 24599.572 18.402 0.000 0.000 0.000\n",
      " 0.000 0.000]\n",
      "Sample win ratio is:  0.613\n",
      "Final wealth is  [25.000 5085.401 53177.482 24825.012 355.667 0.076 0.000 0.000 0.000 0.000\n",
      " 0.000]\n",
      "Sample win ratio is:  0.6\n",
      "Final wealth is  [25.000 2278.896 10504.194 2086.932 11.999 0.001 0.000 0.000 0.000 0.000\n",
      " 0.000]\n"
     ]
    }
   ],
   "source": [
    "try_num = 10 # number of tries\n",
    "for i in range(try_num):\n",
    "    simulate()"
   ]
  },
  {
   "cell_type": "markdown",
   "metadata": {},
   "source": [
    "Repeat the final wealth simulations 100 times. Compute the average final wealth for each betting ratio x = 0.0, 0.1, 0.2, 0.3, … 0.9, 1.0. We find that the average we obtained do not peak at the ratio given by Kelly’s formula. Why？Beacause some very large simualtion result make the average number deviate to a larger one. "
   ]
  },
  {
   "cell_type": "code",
   "execution_count": 11,
   "metadata": {},
   "outputs": [
    {
     "name": "stdout",
     "output_type": "stream",
     "text": [
      "Final wealth is  [25.000 5834.243 494695.404 5328397.162 2783790.781 32680.336 2.680 0.000\n",
      " 0.000 0.000 0.000]\n"
     ]
    }
   ],
   "source": [
    "def repeat(times):\n",
    "    av = test(N, p, b, w, x, rd.random(N)<p)\n",
    "    for i in range(1,times):\n",
    "        a = test(N, p, b, w, x, rd.random(N)<p)\n",
    "        av += a\n",
    "    return av/times\n",
    "print('Final wealth is ', repeat(100))"
   ]
  }
 ],
 "metadata": {
  "kernelspec": {
   "display_name": "Python 3",
   "language": "python",
   "name": "python3"
  },
  "language_info": {
   "codemirror_mode": {
    "name": "ipython",
    "version": 3
   },
   "file_extension": ".py",
   "mimetype": "text/x-python",
   "name": "python",
   "nbconvert_exporter": "python",
   "pygments_lexer": "ipython3",
   "version": "3.7.4"
  }
 },
 "nbformat": 4,
 "nbformat_minor": 2
}
